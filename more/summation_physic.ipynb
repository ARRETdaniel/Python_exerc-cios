{
 "cells": [
  {
   "cell_type": "code",
   "execution_count": 13,
   "metadata": {},
   "outputs": [],
   "source": [
    "import math\n",
    "from collections import defaultdict\n",
    "import decimal\n",
    "\n",
    "\n",
    "def cabecalho_FORMULA():\n",
    "  print('=' * 40)\n",
    "  print(f'{\"FORMULAS\":^40}')\n",
    "  print('soma = SOMAR OS 5 VALORES')\n",
    "  print('tempo_Medio = soma / 5\\n')\n",
    "  print('Posicao: [Soma, Tempo Medio]')\n",
    "  print('=' * 40)\n",
    "  print(\n",
    "      'alpha = sqrt( ((data - medias)**2) / (4)) ')\n",
    "  print(\n",
    "      'delta_T = (alpha / sqrt(amostras))')\n",
    "  print('=' * 40)\n",
    "  print('=' * 40)\n",
    "\n",
    "\n",
    "def tempo_Medio(my_data, amostras):\n",
    "  datas = {}\n",
    "  for data_column in range(0, len(my_data[0])):\n",
    "    soma = 0\n",
    "    for data_row in range(1, amostras+1):\n",
    "      soma += (my_data[data_row][data_column])\n",
    "    datas.update({(data_column+1)*10+30: [soma, soma/amostras]})    \n",
    "  return datas \n",
    "\n",
    "def tempo_Medio_2(medias):\n",
    "  datas = defaultdict(list)\n",
    "  for x, y in medias.items():\n",
    "    datas[x].append(y[1]**2)\n",
    "  return datas\n",
    "\n",
    "\n",
    "def alpha(my_data, medias, amostras):\n",
    "  alpha = defaultdict(list)\n",
    "  decimal.getcontext().prec = 4\n",
    "  for data_column in range(0, len(my_data[0])):\n",
    "    for data_row in range(1, amostras+1):\n",
    "      # formular to calculete the alpha\n",
    "      alpha[(data_column+1)*10+30].append(decimal.getcontext().create_decimal(math.sqrt(\n",
    "          ((my_data[data_row][data_column] - medias[(data_column+1)*10+30][1])**2) / (amostras - 1))))\n",
    "  return (alpha)\n",
    "      \n",
    "def delta_T(alpha, amostras):\n",
    "  datas = defaultdict(list)\n",
    "  decimal.getcontext().prec = 4\n",
    "  for x, y in alpha.items():\n",
    "    for a in range(0,amostras):\n",
    "      delta_T = (float(y[a]) / float(math.sqrt(amostras)))\n",
    "      datas[x].append(decimal.getcontext().create_decimal(delta_T))\n",
    "  return (datas)\n",
    "\n",
    "\n"
   ]
  },
  {
   "cell_type": "code",
   "execution_count": 14,
   "metadata": {},
   "outputs": [
    {
     "name": "stdout",
     "output_type": "stream",
     "text": [
      "========================================\n",
      "\u001b[31m[Soma, Medias]:\u001b[34m \n",
      "\n",
      " {40: [4.754, 0.9507999999999999], 50: [6.134, 1.2268000000000001], 60: [7.2090000000000005, 1.4418000000000002], 70: [8.235, 1.6469999999999998], 80: [9.116999999999999, 1.8234], 90: [9.921, 1.9842], 100: [10.645, 2.129], 110: [11.397999999999998, 2.2795999999999994], 120: [12.038, 2.4076], 130: [12.701, 2.5402]}\n",
      "========================================\n",
      "\u001b[31m[Medias ^ 2]:\u001b[34m \n",
      "\n",
      " defaultdict(<class 'list'>, {40: [0.9040206399999997], 50: [1.5050382400000002], 60: [2.0787872400000005], 70: [2.712608999999999], 80: [3.32478756], 90: [3.9370496399999997], 100: [4.532641], 110: [5.196576159999998], 120: [5.79653776], 130: [6.45261604]})\n",
      "========================================\n",
      "\u001b[31m[Alphas]:\u001b[34m \n",
      "\n",
      " defaultdict(<class 'list'>, {40: [Decimal('0.0001000'), Decimal('0.002900'), Decimal('0.0001000'), Decimal('0.001400'), Decimal('0.004100')], 50: [Decimal('0.002400'), Decimal('0.003400'), Decimal('0.0006000'), Decimal('0.002100'), Decimal('0.003100')], 60: [Decimal('0.003100'), Decimal('0.001100'), Decimal('0.0006000'), Decimal('0.002400'), Decimal('0.002400')], 70: [Decimal('0.0005000'), Decimal('0.005000'), Decimal('0.001000'), Decimal('0.001000'), Decimal('0.005500')], 80: [Decimal('0.0008000'), Decimal('0.001300'), Decimal('0.001200'), Decimal('0.002200'), Decimal('0.001300')], 90: [Decimal('0.002100'), Decimal('0.0001000'), Decimal('0.001400'), Decimal('0.0009000'), Decimal('0.0001000')], 100: [Decimal('0.0005000'), Decimal('0.001500'), Decimal('0.003000'), Decimal('0.001000'), Decimal('0.002000')], 110: [Decimal('0.0002000'), Decimal('0.001200'), Decimal('0.001300'), Decimal('0.001800'), Decimal('0.001700')], 120: [Decimal('0.005300'), Decimal('0.002300'), Decimal('0.001200'), Decimal('0.002700'), Decimal('0.003700')], 130: [Decimal('0.002100'), Decimal('0.0004000'), Decimal('0.001900'), Decimal('0.001600'), Decimal('0.001400')]})\n",
      "========================================\n",
      "\u001b[31m[delta_T]:\u001b[34m \n",
      "\n",
      " defaultdict(<class 'list'>, {40: [Decimal('0.00004472'), Decimal('0.001297'), Decimal('0.00004472'), Decimal('0.0006261'), Decimal('0.001834')], 50: [Decimal('0.001073'), Decimal('0.001521'), Decimal('0.0002683'), Decimal('0.0009391'), Decimal('0.001386')], 60: [Decimal('0.001386'), Decimal('0.0004919'), Decimal('0.0002683'), Decimal('0.001073'), Decimal('0.001073')], 70: [Decimal('0.0002236'), Decimal('0.002236'), Decimal('0.0004472'), Decimal('0.0004472'), Decimal('0.002460')], 80: [Decimal('0.0003578'), Decimal('0.0005814'), Decimal('0.0005367'), Decimal('0.0009839'), Decimal('0.0005814')], 90: [Decimal('0.0009391'), Decimal('0.00004472'), Decimal('0.0006261'), Decimal('0.0004025'), Decimal('0.00004472')], 100: [Decimal('0.0002236'), Decimal('0.0006708'), Decimal('0.001342'), Decimal('0.0004472'), Decimal('0.0008944')], 110: [Decimal('0.00008944'), Decimal('0.0005367'), Decimal('0.0005814'), Decimal('0.0008050'), Decimal('0.0007603')], 120: [Decimal('0.002370'), Decimal('0.001029'), Decimal('0.0005367'), Decimal('0.001207'), Decimal('0.001655')], 130: [Decimal('0.0009391'), Decimal('0.0001789'), Decimal('0.0008497'), Decimal('0.0007155'), Decimal('0.0006261')]})\n",
      "========================================\n"
     ]
    }
   ],
   "source": [
    "import numpy as np\n",
    "import math\n",
    "\n",
    "\n",
    "\n",
    "limpa = '\\033[m'\n",
    "vermelho = '\\033[31m'\n",
    "amar = '\\033[33m'\n",
    "azul = '\\033[34m'\n",
    "\n",
    "#opening csv file (Sheets or Excel) as np in an array format\n",
    "my_data = np.genfromtxt('physic_data_with_weight.csv', delimiter=',')\n",
    "my_data1 = np.genfromtxt('physic_data_2_only_car.csv', delimiter=',')\n",
    "#creating files to save the new datas\n",
    "arq = open('medias.csv', \"w+\")\n",
    "arq2 = open('alpha.csv', \"w+\")\n",
    "arq3 = open('delta_T.csv', \"w+\")\n",
    "\n",
    "amostras = 5\n",
    "medias = tempo_Medio(my_data, amostras)\n",
    "medias_2 = tempo_Medio_2(medias)\n",
    "alpha = alpha(my_data, medias, amostras)\n",
    "delta_T = delta_T(alpha, amostras)\n",
    "\n",
    "\n",
    "print('=' * 40)\n",
    "print(f'{vermelho}[Soma, Medias]:{azul} \\n\\n {medias}')\n",
    "print('=' * 40)\n",
    "\n",
    "print(f'{vermelho}[Medias ^ 2]:{azul} \\n\\n {medias_2}')\n",
    "print('=' * 40)\n",
    "print(f'{vermelho}[Alphas]:{azul} \\n\\n {alpha}')\n",
    "print('=' * 40)\n",
    "\n",
    "print(f'{vermelho}[delta_T]:{azul} \\n\\n {delta_T}')\n",
    "print('=' * 40)\n",
    "\n",
    "\n"
   ]
  },
  {
   "cell_type": "code",
   "execution_count": 15,
   "metadata": {},
   "outputs": [],
   "source": [
    "def tempo_Medio(my_data, amostras):\n",
    "  datas = {}\n",
    "  for data_column in range(0, len(my_data[0])):\n",
    "    soma = 0\n",
    "    for data_row in range(1, amostras+1):\n",
    "      soma += (my_data[data_row][data_column])\n",
    "    datas.update({(data_column+1)*10+30: [soma, soma/amostras]})\n",
    "  return datas\n",
    "\n",
    "\n",
    "def tempo_Medio_2(medias):\n",
    "  datas = defaultdict(list)\n",
    "  for x, y in medias.items():\n",
    "    datas[x].append(y[1]**2)\n",
    "  return datas\n",
    "\n",
    "\n",
    "def alpha(my_data, medias, amostras):\n",
    "  alpha = defaultdict(list)\n",
    "  decimal.getcontext().prec = 4\n",
    "  for data_column in range(0, len(my_data[0])):\n",
    "    for data_row in range(1, amostras+1):\n",
    "      # formular to calculete the alpha\n",
    "      alpha[(data_column+1)*10+30].append(decimal.getcontext().create_decimal(math.sqrt(\n",
    "          ((my_data[data_row][data_column] - medias[(data_column+1)*10+30][1])**2) / (amostras - 1))))\n",
    "  return (alpha)\n",
    "\n",
    "\n",
    "def delta_T(alpha, amostras):\n",
    "  datas = defaultdict(list)\n",
    "  decimal.getcontext().prec = 4\n",
    "  for x, y in alpha.items():\n",
    "    for a in range(0, amostras):\n",
    "      delta_T = (float(y[a]) / float(math.sqrt(amostras)))\n",
    "      datas[x].append(decimal.getcontext().create_decimal(delta_T))\n",
    "  return (datas)\n"
   ]
  },
  {
   "cell_type": "code",
   "execution_count": 16,
   "metadata": {},
   "outputs": [
    {
     "name": "stdout",
     "output_type": "stream",
     "text": [
      "========================================\n",
      "\u001b[31m[Soma, Medias]:\u001b[34m \n",
      "\n",
      " {40: [5.0969999999999995, 1.0193999999999999], 50: [6.138, 1.2276], 60: [7.167, 1.4334], 70: [8.116000000000001, 1.6232000000000002], 80: [9.095, 1.8190000000000002], 90: [9.824000000000002, 1.9648000000000003], 100: [10.627, 2.1254], 110: [11.334999999999999, 2.267], 120: [12.035, 2.407], 130: [12.672999999999998, 2.5345999999999997]}\n",
      "========================================\n",
      "\u001b[31m[Medias ^ 2]:\u001b[34m \n",
      "\n",
      " defaultdict(<class 'list'>, {40: [1.0391763599999997], 50: [1.50700176], 60: [2.05463556], 70: [2.6347782400000006], 80: [3.3087610000000005], 90: [3.8604390400000015], 100: [4.5173251599999995], 110: [5.139289], 120: [5.793649], 130: [6.4241971599999985]})\n",
      "========================================\n",
      "\u001b[31m[Alphas]:\u001b[34m \n",
      "\n",
      " defaultdict(<class 'list'>, {40: [Decimal('0.01480'), Decimal('0.003200'), Decimal('0.003700'), Decimal('0.003200'), Decimal('0.004700')], 50: [Decimal('0.001200'), Decimal('0.0003000'), Decimal('0.001300'), Decimal('0.001200'), Decimal('0.0008000')], 60: [Decimal('0.0002000'), Decimal('0.001700'), Decimal('0.0008000'), Decimal('0.0003000'), Decimal('0.0008000')], 70: [Decimal('0.001100'), Decimal('0.0009000'), Decimal('0.0009000'), Decimal('0.0004000'), Decimal('0.001100')], 80: [Decimal('0.004500'), Decimal('0.002500'), Decimal('0.001000'), Decimal('0.004000'), Decimal('0.001000')], 90: [Decimal('0.001900'), Decimal('0.0001000'), Decimal('0.001100'), Decimal('0.0009000'), Decimal('0.001600')], 100: [Decimal('0.001300'), Decimal('0.0002000'), Decimal('0.0002000'), Decimal('0.0002000'), Decimal('0.0007000')], 110: [Decimal('0.001500'), Decimal('0.001000'), Decimal('0.0005000'), Decimal('0.001500'), Decimal('0.001500')], 120: [Decimal('0.002000'), Decimal('0.003000'), Decimal('0.002000'), Decimal('0'), Decimal('0.001000')], 130: [Decimal('0.0008000'), Decimal('0.001800'), Decimal('0.0002000'), Decimal('0.001200'), Decimal('0.001200')]})\n",
      "========================================\n",
      "\u001b[31m[delta_T]:\u001b[34m \n",
      "\n",
      " defaultdict(<class 'list'>, {40: [Decimal('0.006619'), Decimal('0.001431'), Decimal('0.001655'), Decimal('0.001431'), Decimal('0.002102')], 50: [Decimal('0.0005367'), Decimal('0.0001342'), Decimal('0.0005814'), Decimal('0.0005367'), Decimal('0.0003578')], 60: [Decimal('0.00008944'), Decimal('0.0007603'), Decimal('0.0003578'), Decimal('0.0001342'), Decimal('0.0003578')], 70: [Decimal('0.0004919'), Decimal('0.0004025'), Decimal('0.0004025'), Decimal('0.0001789'), Decimal('0.0004919')], 80: [Decimal('0.002012'), Decimal('0.001118'), Decimal('0.0004472'), Decimal('0.001789'), Decimal('0.0004472')], 90: [Decimal('0.0008497'), Decimal('0.00004472'), Decimal('0.0004919'), Decimal('0.0004025'), Decimal('0.0007155')], 100: [Decimal('0.0005814'), Decimal('0.00008944'), Decimal('0.00008944'), Decimal('0.00008944'), Decimal('0.0003130')], 110: [Decimal('0.0006708'), Decimal('0.0004472'), Decimal('0.0002236'), Decimal('0.0006708'), Decimal('0.0006708')], 120: [Decimal('0.0008944'), Decimal('0.001342'), Decimal('0.0008944'), Decimal('0'), Decimal('0.0004472')], 130: [Decimal('0.0003578'), Decimal('0.0008050'), Decimal('0.00008944'), Decimal('0.0005367'), Decimal('0.0005367')]})\n",
      "========================================\n"
     ]
    }
   ],
   "source": [
    "  \n",
    "medias1 = tempo_Medio(my_data1, amostras)\n",
    "medias_2 = tempo_Medio_2(medias1)\n",
    "\n",
    "alpha1 = alpha(my_data1, medias1, amostras)\n",
    "delta_T1 = delta_T(alpha1, amostras)\n",
    "\n",
    "print('=' * 40)\n",
    "print(f'{vermelho}[Soma, Medias]:{azul} \\n\\n {medias1}')\n",
    "print('=' * 40)\n",
    "\n",
    "print(f'{vermelho}[Medias ^ 2]:{azul} \\n\\n {medias_2}')\n",
    "print('=' * 40)\n",
    "print(f'{vermelho}[Alphas]:{azul} \\n\\n {alpha1}')\n",
    "print('=' * 40)\n",
    "\n",
    "print(f'{vermelho}[delta_T]:{azul} \\n\\n {delta_T1}')\n",
    "print('=' * 40)\n"
   ]
  },
  {
   "cell_type": "code",
   "execution_count": 17,
   "metadata": {},
   "outputs": [
    {
     "name": "stdout",
     "output_type": "stream",
     "text": [
      "------------------>> COLUNA 1 <<------------------  \n",
      "Soma das 5 amostras......................  4.7540\n",
      "tempo_Medio...................  0.9508\n",
      "------------------>> COLUNA 2 <<------------------  \n",
      "Soma das 5 amostras......................  6.1340\n",
      "tempo_Medio...................  1.2268\n",
      "------------------>> COLUNA 3 <<------------------  \n",
      "Soma das 5 amostras......................  7.2090\n",
      "tempo_Medio...................  1.4418\n",
      "------------------>> COLUNA 4 <<------------------  \n",
      "Soma das 5 amostras......................  8.2350\n",
      "tempo_Medio...................  1.6470\n",
      "------------------>> COLUNA 5 <<------------------  \n",
      "Soma das 5 amostras......................  9.1170\n",
      "tempo_Medio...................  1.8234\n",
      "------------------>> COLUNA 6 <<------------------  \n",
      "Soma das 5 amostras......................  9.9210\n",
      "tempo_Medio...................  1.9842\n",
      "------------------>> COLUNA 7 <<------------------  \n",
      "Soma das 5 amostras...................... 10.6450\n",
      "tempo_Medio...................  2.1290\n",
      "------------------>> COLUNA 8 <<------------------  \n",
      "Soma das 5 amostras...................... 11.3980\n",
      "tempo_Medio...................  2.2796\n",
      "------------------>> COLUNA 9 <<------------------  \n",
      "Soma das 5 amostras...................... 12.0380\n",
      "tempo_Medio...................  2.4076\n",
      "------------------>> COLUNA 10 <<------------------  \n",
      "Soma das 5 amostras...................... 12.7010\n",
      "tempo_Medio...................  2.5402\n",
      "[0.9507999999999999, 1.2268000000000001, 1.4418000000000002, 1.6469999999999998, 1.8234, 1.9842, 2.129, 2.2795999999999994, 2.4076, 2.5402]\n"
     ]
    }
   ],
   "source": [
    "# array to save the new data\n",
    "medias = []\n",
    "\n",
    "#numero de amostras coletadas para cada um dos 11 experimentos\n",
    "amostras = 5\n",
    "\n",
    "\n",
    "for data_column in range(0, len(my_data[0])):\n",
    "  print('------------------>> COLUNA {} <<------------------  '.format(data_column+1))\n",
    "  soma = 0\n",
    "\n",
    "  #sum all the 5 values\n",
    "  for data_row in range(1, 6):\n",
    "    soma += (my_data[data_row][data_column])\n",
    "\n",
    "  print(f'{\"Soma das\"} {amostras} {\"amostras\":.<30} {soma:>7.4f}')\n",
    "  #printin data \n",
    "  print(f'{\"tempo_Medio\":.<30} {((soma)/5):>7.4f}')\n",
    "  #adding data to array\n",
    "  medias.append(soma/5)\n",
    "      \n",
    "print(medias)\n",
    "\n",
    "\n",
    "# writing data to file\n",
    "for element in medias:\n",
    "    arq.write(\"%s\\n\" % element)\n",
    "arq.close()\n",
    "\n",
    "\n"
   ]
  },
  {
   "cell_type": "code",
   "execution_count": 18,
   "metadata": {},
   "outputs": [
    {
     "ename": "ModuleNotFoundError",
     "evalue": "No module named 'sympy'",
     "output_type": "error",
     "traceback": [
      "\u001b[1;31m---------------------------------------------------------------------------\u001b[0m",
      "\u001b[1;31mModuleNotFoundError\u001b[0m                       Traceback (most recent call last)",
      "\u001b[1;32m<ipython-input-18-4ec22dcf098b>\u001b[0m in \u001b[0;36m<module>\u001b[1;34m\u001b[0m\n\u001b[0;32m      1\u001b[0m \u001b[1;32mimport\u001b[0m \u001b[0mmath\u001b[0m\u001b[1;33m\u001b[0m\u001b[1;33m\u001b[0m\u001b[0m\n\u001b[1;32m----> 2\u001b[1;33m \u001b[1;32mimport\u001b[0m \u001b[0msympy\u001b[0m \u001b[1;32mas\u001b[0m \u001b[0msy\u001b[0m\u001b[1;33m\u001b[0m\u001b[1;33m\u001b[0m\u001b[0m\n\u001b[0m\u001b[0;32m      3\u001b[0m \u001b[1;33m\u001b[0m\u001b[0m\n\u001b[0;32m      4\u001b[0m \u001b[1;31m#numero de amostras coletadas para cada um dos 11 experimentos\u001b[0m\u001b[1;33m\u001b[0m\u001b[1;33m\u001b[0m\u001b[1;33m\u001b[0m\u001b[0m\n\u001b[0;32m      5\u001b[0m \u001b[0mamostras\u001b[0m \u001b[1;33m=\u001b[0m \u001b[1;36m5\u001b[0m\u001b[1;33m\u001b[0m\u001b[1;33m\u001b[0m\u001b[0m\n",
      "\u001b[1;31mModuleNotFoundError\u001b[0m: No module named 'sympy'"
     ]
    }
   ],
   "source": [
    "import math\n",
    "import sympy as sy\n",
    "\n",
    "#numero de amostras coletadas para cada um dos 11 experimentos\n",
    "amostras = 5 \n",
    "\n",
    "for data_column in range(0, len(my_data[0])):\n",
    "  print('\\n------------------>> COLUNA {} <<------------------  \\n'.format(data_column+1))\n",
    "\n",
    "  for data_row in range(1, 6):\n",
    "    # formular to calculete the alpha    \n",
    "    alpha = math.sqrt(\n",
    "        ((my_data[data_row][data_column] - medias[data_column])**2) / (amostras - 1))\n",
    "    # Formular to calculete the delta_T\n",
    "    delta_T = (alpha / math.sqrt(amostras))\n",
    "\n",
    "    #printing the data\n",
    "    print('=' * 40)\n",
    "    print(f'{\"FORMULAS {}\":^40}'.format(data_column+1))\n",
    "    print(\n",
    "        'alpha = sqrt( (({} - {})**2) / (4)) '.format(my_data[data_row][data_column], medias[data_column]))\n",
    "    print(\n",
    "        'delta_T = ({} / sqrt({}))'.format(alpha, amostras))\n",
    "    print('=' * 40)\n",
    "\n",
    "    # printing and writing the data in file\n",
    "    print(f'{\"alpha\":.<30} {alpha:>7.30f}')\n",
    "    arq2.write(\"%s\\n\" % alpha)\n",
    "\n",
    "    # printing and writing the data in file\n",
    "    print(f'{\"delta_T\":.<30} {delta_T:>7.30f}')\n",
    "    arq3.write(\"%f\\n\" % delta_T)\n",
    "    \n",
    "    print('=' * 40)\n",
    "\n",
    "arq2.close()\n",
    "arq3.close()\n",
    "\n"
   ]
  },
  {
   "cell_type": "markdown",
   "metadata": {},
   "source": [
    "-------------TEST BELOW----------------"
   ]
  },
  {
   "cell_type": "code",
   "execution_count": null,
   "metadata": {},
   "outputs": [
    {
     "name": "stdout",
     "output_type": "stream",
     "text": [
      "-----------\n",
      "[[40.0], [0.951], [0.945], [0.951], [0.948], [0.959]]\n",
      "[[50.0], [1.222], [1.22], [1.228], [1.231], [1.233]]\n"
     ]
    }
   ],
   "source": [
    "column1 = []\n",
    "column2 = []\n",
    "\n",
    "for column in my_data:\n",
    "    column1.append([column[0]])\n",
    "    column2.append([column[1]])\n",
    "print('-----------')\n",
    "\n",
    "\n",
    "print(column1)\n",
    "print(column2)\n"
   ]
  },
  {
   "cell_type": "code",
   "execution_count": null,
   "metadata": {},
   "outputs": [
    {
     "name": "stdout",
     "output_type": "stream",
     "text": [
      "0.959\n",
      "10\n",
      "[[ 40.     50.     60.     70.     80.     90.    100.    110.    120.\n",
      "  130.   ]\n",
      " [  0.951   1.222   1.448   1.646   1.825   1.98    2.128   2.28    2.397\n",
      "    2.536]\n",
      " [  0.945   1.22    1.444   1.637   1.826   1.984   2.126   2.282   2.403\n",
      "    2.541]\n",
      " [  0.951   1.228   1.443   1.645   1.821   1.987   2.135   2.277   2.41\n",
      "    2.544]\n",
      " [  0.948   1.231   1.437   1.649   1.819   1.986   2.131   2.276   2.413\n",
      "    2.537]\n",
      " [  0.959   1.233   1.437   1.658   1.826   1.984   2.125   2.283   2.415\n",
      "    2.543]]\n"
     ]
    }
   ],
   "source": [
    "print(my_data[5][0])\n",
    "print(len(my_data[0]))\n",
    "\n",
    "\n",
    "print(my_data)"
   ]
  },
  {
   "cell_type": "code",
   "execution_count": null,
   "metadata": {},
   "outputs": [],
   "source": [
    "i = sy.Symbol('i')"
   ]
  },
  {
   "cell_type": "code",
   "execution_count": null,
   "metadata": {},
   "outputs": [
    {
     "name": "stdout",
     "output_type": "stream",
     "text": [
      "[[40.    50.   ]\n",
      " [ 0.951  1.222]\n",
      " [ 0.945  1.22 ]\n",
      " [ 0.951  1.228]\n",
      " [ 0.948  1.231]\n",
      " [ 0.959  1.233]]\n"
     ]
    }
   ],
   "source": [
    "con = np.concatenate((column1, column2), axis=1)\n",
    "# https://numpy.org/doc/stable/reference/generated/numpy.concatenate.html\n",
    "print(con)\n"
   ]
  },
  {
   "cell_type": "code",
   "execution_count": null,
   "metadata": {},
   "outputs": [],
   "source": []
  }
 ],
 "metadata": {
  "interpreter": {
   "hash": "2da65d1ea42e691f9a8ba151eec3febcd80cd424924ddf7647d88467cda51ec6"
  },
  "kernelspec": {
   "display_name": "Python 3.6.13 ('pytorch')",
   "language": "python",
   "name": "python3"
  },
  "language_info": {
   "codemirror_mode": {
    "name": "ipython",
    "version": 3
   },
   "file_extension": ".py",
   "mimetype": "text/x-python",
   "name": "python",
   "nbconvert_exporter": "python",
   "pygments_lexer": "ipython3",
   "version": "3.6.13"
  },
  "orig_nbformat": 4
 },
 "nbformat": 4,
 "nbformat_minor": 2
}
